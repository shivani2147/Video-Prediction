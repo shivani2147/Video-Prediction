{
 "cells": [
  {
   "cell_type": "code",
   "execution_count": 1,
   "id": "fb7d44f6",
   "metadata": {},
   "outputs": [],
   "source": [
    "# Importing libraries\n",
    "\n",
    "from ultralytics import YOLO\n",
    "import cv2\n",
    "import cvzone\n",
    "import math"
   ]
  },
  {
   "cell_type": "code",
   "execution_count": 2,
   "id": "792e52eb",
   "metadata": {},
   "outputs": [],
   "source": [
    "# Capture the video\n",
    "cap = cv2.VideoCapture(\"D:\\Videos\\pets_humans.mp4\")"
   ]
  },
  {
   "cell_type": "code",
   "execution_count": 3,
   "id": "b618933b",
   "metadata": {},
   "outputs": [],
   "source": [
    "# Create a model of YOLO\n",
    "model = YOLO('yolov8n.pt')"
   ]
  },
  {
   "cell_type": "code",
   "execution_count": 4,
   "id": "dba413a3",
   "metadata": {},
   "outputs": [],
   "source": [
    "classNames = ['person', 'bicycle', 'car', 'motorbike', 'aeroplane', 'bus', 'train', 'truck', 'boat', 'traffic light', \n",
    "              'fire hydrant', 'stop sign', 'parking meter', 'bench', 'bird', 'cat', 'dog', 'horse', 'sheep', 'cow', \n",
    "              'elephant', 'bear', 'zebra', 'giraffe', 'backpack', 'umbrella', 'handbag', 'tie', 'suitcase', 'frisbee', \n",
    "              'skis', 'snowboard', 'sports ball', 'kite', 'baseball bat', 'baseball glove', 'skateboard', 'surfboard', \n",
    "              'tennis racket', 'bottle', 'wine glass', 'cup', 'fork', 'knife', 'spoon', 'bowl', 'banana', 'apple', \n",
    "              'sandwich', 'orange', 'broccoli', 'carrot', 'hot dog', 'pizza', 'donut', 'cake', 'chair', 'sofa', \n",
    "              'potted plant', 'bed', 'dining table', 'toilet', 'tv monitor', 'laptop', 'mouse', 'remote', 'keyboard', \n",
    "              'cell phone', 'microwave', 'oven', 'toaster', 'sink', 'refrigerator', 'book', 'clock', 'vase', \n",
    "              'scissors', 'teddy bear', 'hair drier', 'toothbrush']"
   ]
  },
  {
   "cell_type": "code",
   "execution_count": null,
   "id": "1a30d8e9",
   "metadata": {},
   "outputs": [],
   "source": [
    "fourcc = cv2.VideoWriter_fourcc(*'mp4v')\n",
    "out = cv2.VideoWriter(\"D:\\My_Project\\Final Images & Videos\\Video_Prediction_YOLOv8.mp4\", fourcc, 30.0, (640, 480))\n",
    "\n",
    "while True : \n",
    "    ret, frame = cap.read()\n",
    "    \n",
    "    if not ret : \n",
    "        break\n",
    "        \n",
    "    frame = cv2.resize(frame, (640, 480))\n",
    "    results = model(frame, stream = True)            \n",
    "            # stream : it means we're telling the model to process the picture in a continuous manner, like a video.\n",
    "    \n",
    "    # Create a bounding box of each of the results\n",
    "    for r in results : \n",
    "        boxes = r.boxes\n",
    "        for box in boxes : \n",
    "            # Create a Bounding Box\n",
    "            x1, y1, x2, y2 = box.xyxy[0]\n",
    "            # To use those values of multiple detections we need to 1st convert into integer so that we can use them\n",
    "            x1, y1, x2, y2 = int(x1), int(y1), int(x2), int(y2)            \n",
    "            \n",
    "            # Find out the confidence (predicted accuracy)\n",
    "            conf = math.ceil((box.conf[0] * 100)) / 100\n",
    "            \n",
    "            # Find out the Class Name\n",
    "            cls = int(box.cls[0])\n",
    "            \n",
    "            # Put the text of confidence & class on top of the rectangle\n",
    "            cv2.rectangle(frame, (x1, y1), (x2, y2), (255, 255, 255), 3)\n",
    "            cvzone.putTextRect(frame, f\"{classNames[cls]} {conf}\", (max(0, x1), max(40, y1)), scale = 0.9, thickness = 1, \n",
    "                               colorR = (255, 100, 50), offset = 5)\n",
    "    \n",
    "    # Close the video\n",
    "    out.write(frame)\n",
    "    cv2.imshow(\"Frame\", frame)\n",
    "    if cv2.waitKey(1) == ord('q') : \n",
    "        break\n",
    "        \n",
    "cap.release()\n",
    "out.release()\n",
    "cv2.destroyAllWindows()"
   ]
  },
  {
   "cell_type": "code",
   "execution_count": null,
   "id": "552e63c7",
   "metadata": {},
   "outputs": [],
   "source": []
  }
 ],
 "metadata": {
  "kernelspec": {
   "display_name": "YOLO",
   "language": "python",
   "name": "yolo"
  },
  "language_info": {
   "codemirror_mode": {
    "name": "ipython",
    "version": 3
   },
   "file_extension": ".py",
   "mimetype": "text/x-python",
   "name": "python",
   "nbconvert_exporter": "python",
   "pygments_lexer": "ipython3",
   "version": "3.11.2"
  }
 },
 "nbformat": 4,
 "nbformat_minor": 5
}
